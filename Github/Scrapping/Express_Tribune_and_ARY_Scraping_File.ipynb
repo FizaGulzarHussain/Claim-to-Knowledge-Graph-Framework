{
 "cells": [
  {
   "cell_type": "markdown",
   "metadata": {
    "id": "3pgsTJka0PQa"
   },
   "source": [
    "# ARY News Politics\n"
   ]
  },
  {
   "cell_type": "code",
   "execution_count": null,
   "metadata": {
    "id": "V5eo3_0l0R0m"
   },
   "outputs": [],
   "source": [
    "import requests\n",
    "from bs4 import BeautifulSoup\n",
    "from urllib.request import Request, urlopen\n",
    "from bs4 import BeautifulSoup as soup"
   ]
  },
  {
   "cell_type": "code",
   "execution_count": null,
   "metadata": {
    "id": "ggGTD4A11AWl"
   },
   "outputs": [],
   "source": [
    "c = []\n",
    "pg = 1\n",
    "for i in range(3000):\n",
    "  url = \"https://arynews.tv/category/pakistan/page/\" + str(pg)\n",
    "  req = Request(url , headers={'User-Agent': 'Mozilla/5.0'})\n",
    "  webpage = urlopen(req).read()\n",
    "  page_soup = soup(webpage, \"html.parser\")\n",
    "  containers = page_soup.findAll(\"h3\",\"entry-title td-module-title\")\n",
    "  c.append(containers)\n",
    "  pg = pg +  1"
   ]
  },
  {
   "cell_type": "code",
   "execution_count": null,
   "metadata": {
    "colab": {
     "base_uri": "https://localhost:8080/"
    },
    "id": "PGwDXlUH8Dn2",
    "outputId": "c978558f-e4aa-43fc-da3d-87dd923314d5"
   },
   "outputs": [
    {
     "data": {
      "text/plain": [
       "2660"
      ]
     },
     "execution_count": 37,
     "metadata": {},
     "output_type": "execute_result"
    }
   ],
   "source": [
    "len(c)"
   ]
  },
  {
   "cell_type": "code",
   "execution_count": null,
   "metadata": {
    "colab": {
     "base_uri": "https://localhost:8080/",
     "height": 35
    },
    "id": "o1L-A5le48Az",
    "outputId": "6c8f7610-c42e-4db2-c67f-ddd73e4c7541"
   },
   "outputs": [
    {
     "data": {
      "application/vnd.google.colaboratory.intrinsic+json": {
       "type": "string"
      },
      "text/plain": [
       "'PTI seeks ‘high-level commission’ to probe events of May 9'"
      ]
     },
     "execution_count": 38,
     "metadata": {},
     "output_type": "execute_result"
    }
   ],
   "source": [
    "containers[0].a.text"
   ]
  },
  {
   "cell_type": "code",
   "execution_count": null,
   "metadata": {
    "id": "0qr-Gw654Rbd"
   },
   "outputs": [],
   "source": [
    "titles = []\n",
    "for i in range(len(c)):\n",
    "  for j in range(len(c[i])):\n",
    "    titles.append(c[i][j].a.text)"
   ]
  },
  {
   "cell_type": "code",
   "execution_count": null,
   "metadata": {
    "colab": {
     "base_uri": "https://localhost:8080/"
    },
    "id": "R7uys5Ww6b0z",
    "outputId": "b012b87c-3c5e-4fca-f3aa-dc53f994a871"
   },
   "outputs": [
    {
     "data": {
      "text/plain": [
       "39900"
      ]
     },
     "execution_count": 40,
     "metadata": {},
     "output_type": "execute_result"
    }
   ],
   "source": [
    "len(titles)"
   ]
  },
  {
   "cell_type": "code",
   "execution_count": null,
   "metadata": {
    "id": "N_x73UXs5eVe"
   },
   "outputs": [],
   "source": [
    "for i in range(len(titles)):\n",
    "  print(titles[i])"
   ]
  },
  {
   "cell_type": "code",
   "execution_count": null,
   "metadata": {
    "id": "nGmTLs4p9PqN"
   },
   "outputs": [],
   "source": [
    "import pandas as pd\n",
    "df = pd.DataFrame(titles, columns=[\"News Titles\"])\n",
    "df.to_csv('ARY_News_Titles.csv', index=False)"
   ]
  },
  {
   "cell_type": "markdown",
   "metadata": {
    "id": "xqS88hl2vSEh"
   },
   "source": [
    "## Express Tribune"
   ]
  },
  {
   "cell_type": "code",
   "execution_count": null,
   "metadata": {
    "id": "g5NXOz1Z9IoC"
   },
   "outputs": [],
   "source": [
    "import requests\n",
    "from bs4 import BeautifulSoup"
   ]
  },
  {
   "cell_type": "code",
   "execution_count": null,
   "metadata": {
    "id": "5ekJuqQpSind"
   },
   "outputs": [],
   "source": [
    "pg = 1\n",
    "news_titles = []\n",
    "news_links = []\n",
    "for i in range(300):\n",
    "  URL = \"https://tribune.com.pk/health?page=\" + str(pg)\n",
    "  page = requests.get(URL)\n",
    "  soup = BeautifulSoup(page.content, \"html.parser\")\n",
    "  news_titles.append(soup.findAll('h2', attrs = {'class':\"title-heading\"}))\n",
    "  news_links.append(soup.findAll('div', attrs = {'class':\"horiz-news3-caption\"}))\n",
    "  pg = pg +  1"
   ]
  },
  {
   "cell_type": "code",
   "execution_count": null,
   "metadata": {
    "id": "09dwON6_Sine"
   },
   "outputs": [],
   "source": [
    "titles=[]\n",
    "urls=[]\n",
    "for i in range(len(news_titles)):\n",
    "  for j in range(10):\n",
    "    titles.append(news_titles[i][j].text)"
   ]
  },
  {
   "cell_type": "code",
   "execution_count": null,
   "metadata": {
    "colab": {
     "base_uri": "https://localhost:8080/"
    },
    "id": "OGLAo9reSine",
    "outputId": "8db6483a-7d82-4be1-b02c-ba9c2da1a3eb"
   },
   "outputs": [
    {
     "data": {
      "text/plain": [
       "3000"
      ]
     },
     "execution_count": 4,
     "metadata": {},
     "output_type": "execute_result"
    }
   ],
   "source": [
    "len(urls)"
   ]
  },
  {
   "cell_type": "code",
   "execution_count": null,
   "metadata": {
    "colab": {
     "base_uri": "https://localhost:8080/"
    },
    "id": "7E8W43i1Sinf",
    "outputId": "94cb9918-ecd1-4491-9a1b-991d10652ed8"
   },
   "outputs": [
    {
     "data": {
      "text/plain": [
       "3000"
      ]
     },
     "execution_count": 44,
     "metadata": {},
     "output_type": "execute_result"
    }
   ],
   "source": [
    "len(titles)"
   ]
  },
  {
   "cell_type": "code",
   "execution_count": null,
   "metadata": {
    "colab": {
     "base_uri": "https://localhost:8080/"
    },
    "id": "XHai1TZf9aVM",
    "outputId": "c26821e2-bd22-4e9a-8541-bcc309a3bdbc"
   },
   "outputs": [
    {
     "name": "stdout",
     "output_type": "stream",
     "text": [
      "Done\n"
     ]
    }
   ],
   "source": [
    "with open('health_url.txt', 'w') as fp:\n",
    "    for item in urls:\n",
    "        # write each item on a new line\n",
    "        fp.write(\"%s\\n\" % item)\n",
    "    print('Done')"
   ]
  },
  {
   "cell_type": "code",
   "execution_count": null,
   "metadata": {
    "id": "ECRZWedaSinf"
   },
   "outputs": [],
   "source": [
    "title=[]\n",
    "date_aut=[]\n",
    "content=[]\n",
    "for i in range(len(urls)):\n",
    "  URL2 = urls[i]\n",
    "  page2 = requests.get(URL2)\n",
    "\n",
    "  soup2 = BeautifulSoup(page2.content, \"html.parser\")\n",
    "  title.append(soup2.find('h1'))\n",
    "  #t = soup2.findAll('div', attrs={'class': \"story-box-section\"})\n",
    "  date_aut.append(soup2.find('div',attrs={'class':\"left-authorbox\"}))\n",
    "  content.append(soup2.findAll('span', attrs = {'class':\"story-text\"}))"
   ]
  },
  {
   "cell_type": "code",
   "execution_count": null,
   "metadata": {
    "colab": {
     "base_uri": "https://localhost:8080/",
     "height": 35
    },
    "id": "SsXA-DEpCYYg",
    "outputId": "af57f057-ce27-4589-8a1b-f8c9a313466f"
   },
   "outputs": [
    {
     "data": {
      "application/vnd.google.colaboratory.intrinsic+json": {
       "type": "string"
      },
      "text/plain": [
       "'https://tribune.com.pk/story/2410513/29-of-population-suffering-from-diabetes'"
      ]
     },
     "execution_count": 14,
     "metadata": {},
     "output_type": "execute_result"
    }
   ],
   "source": [
    "urls[0]"
   ]
  },
  {
   "cell_type": "code",
   "execution_count": null,
   "metadata": {
    "colab": {
     "base_uri": "https://localhost:8080/"
    },
    "id": "jkTTIz2ICO5H",
    "outputId": "0c8c2176-f19c-4fc8-c9da-86819af2678e"
   },
   "outputs": [
    {
     "data": {
      "text/plain": [
       "3000"
      ]
     },
     "execution_count": 37,
     "metadata": {},
     "output_type": "execute_result"
    }
   ],
   "source": [
    "len(c)"
   ]
  },
  {
   "cell_type": "code",
   "execution_count": null,
   "metadata": {
    "id": "49fyfY-LSing"
   },
   "outputs": [],
   "source": [
    "text = []\n",
    "ti = []\n",
    "d = []\n",
    "j = 0\n",
    "for i in range(3000):\n",
    "  if i!=421 and i!=426 and i!=1770:\n",
    "    c=content[i][0].text.strip()\n",
    "    text.append(c)\n",
    "    ti.append(titles[i])\n",
    "    d.append(date_aut[i].text.strip())\n",
    "    c = \"\""
   ]
  },
  {
   "cell_type": "code",
   "execution_count": null,
   "metadata": {
    "colab": {
     "base_uri": "https://localhost:8080/"
    },
    "id": "NeGTkAHJSing",
    "outputId": "d8efe4ad-c8be-45a2-c18c-f9f18fb65114"
   },
   "outputs": [
    {
     "data": {
      "text/plain": [
       "2997"
      ]
     },
     "execution_count": 74,
     "metadata": {},
     "output_type": "execute_result"
    }
   ],
   "source": [
    "len(d)"
   ]
  },
  {
   "cell_type": "code",
   "execution_count": null,
   "metadata": {
    "id": "xsNIzG__GItb"
   },
   "outputs": [],
   "source": [
    "import pandas\n",
    "df = pandas.DataFrame(data={\"Titles\": ti, \"articleText\": text, \"date_author\": d})\n",
    "df.head()"
   ]
  },
  {
   "cell_type": "code",
   "execution_count": null,
   "metadata": {
    "id": "4HgEO8_SGWxB"
   },
   "outputs": [],
   "source": [
    "s = []\n",
    "for i in range(len(df)):\n",
    "  s.append(titles[i].strip())"
   ]
  },
  {
   "cell_type": "code",
   "execution_count": null,
   "metadata": {
    "id": "cOUgxRMvGZvS"
   },
   "outputs": [],
   "source": [
    "df['updated_titles'] = s"
   ]
  },
  {
   "cell_type": "code",
   "execution_count": null,
   "metadata": {
    "id": "HphFHFc6GcIc"
   },
   "outputs": [],
   "source": [
    "df = df.drop('Titles', axis=1)"
   ]
  },
  {
   "cell_type": "code",
   "execution_count": null,
   "metadata": {
    "id": "dQPaE8H0GkDj"
   },
   "outputs": [],
   "source": [
    "df.to_csv('HealthNews.csv',sep=',',index=False)"
   ]
  },
  {
   "cell_type": "markdown",
   "metadata": {
    "id": "yf4Ka8KtSing"
   },
   "source": [
    "## Save to Pandas dataframe"
   ]
  },
  {
   "cell_type": "code",
   "execution_count": null,
   "metadata": {
    "colab": {
     "base_uri": "https://localhost:8080/",
     "height": 624
    },
    "id": "7CS7dXy7Sinh",
    "outputId": "84a94a85-9a4c-424c-a78e-5ccb9088fb2b"
   },
   "outputs": [
    {
     "data": {
      "text/html": [
       "\n",
       "  <div id=\"df-d301dbcf-f063-433d-a55e-dfa9892356b1\">\n",
       "    <div class=\"colab-df-container\">\n",
       "      <div>\n",
       "<style scoped>\n",
       "    .dataframe tbody tr th:only-of-type {\n",
       "        vertical-align: middle;\n",
       "    }\n",
       "\n",
       "    .dataframe tbody tr th {\n",
       "        vertical-align: top;\n",
       "    }\n",
       "\n",
       "    .dataframe thead th {\n",
       "        text-align: right;\n",
       "    }\n",
       "</style>\n",
       "<table border=\"1\" class=\"dataframe\">\n",
       "  <thead>\n",
       "    <tr style=\"text-align: right;\">\n",
       "      <th></th>\n",
       "      <th>Title</th>\n",
       "      <th>date_author</th>\n",
       "    </tr>\n",
       "  </thead>\n",
       "  <tbody>\n",
       "    <tr>\n",
       "      <th>0</th>\n",
       "      <td>\\n‘29% of population suffering from diabetes’</td>\n",
       "      <td>[\\n, [[Our Correspondent],  ], \\n, [April 08, ...</td>\n",
       "    </tr>\n",
       "    <tr>\n",
       "      <th>1</th>\n",
       "      <td>\\nK-P readies plan to combat dengue</td>\n",
       "      <td>[\\n, [[Our Correspondent],  ], \\n, [April 06, ...</td>\n",
       "    </tr>\n",
       "    <tr>\n",
       "      <th>2</th>\n",
       "      <td>\\nCovid-19 cases on the rise in K-P again</td>\n",
       "      <td>[\\n, [[Our Correspondent],  ], \\n, [April 01, ...</td>\n",
       "    </tr>\n",
       "    <tr>\n",
       "      <th>3</th>\n",
       "      <td>\\nBalochistan cabinet approves health card</td>\n",
       "      <td>[\\n, [[Syed Ali Shah],  ], \\n, [April 01, 2023...</td>\n",
       "    </tr>\n",
       "    <tr>\n",
       "      <th>4</th>\n",
       "      <td>\\nSeven new Covid-19 cases detected in K-P</td>\n",
       "      <td>[\\n, [[Our Correspondent],  ], \\n, [March 26, ...</td>\n",
       "    </tr>\n",
       "    <tr>\n",
       "      <th>...</th>\n",
       "      <td>...</td>\n",
       "      <td>...</td>\n",
       "    </tr>\n",
       "    <tr>\n",
       "      <th>2995</th>\n",
       "      <td>\\nHeart groups suggest people get up every now...</td>\n",
       "      <td>[\\n, [[Reuters],  ], \\n, [August 17, 2016], \\n]</td>\n",
       "    </tr>\n",
       "    <tr>\n",
       "      <th>2996</th>\n",
       "      <td>\\nPaying smokers to quit may prove successful</td>\n",
       "      <td>[\\n, [[News Desk],  ], \\n, [August 17, 2016], \\n]</td>\n",
       "    </tr>\n",
       "    <tr>\n",
       "      <th>2997</th>\n",
       "      <td>\\nDid you know? Cupping is actually an Islamic...</td>\n",
       "      <td>[\\n, [[Life&amp;Style],  ], \\n, [August 18, 2016],...</td>\n",
       "    </tr>\n",
       "    <tr>\n",
       "      <th>2998</th>\n",
       "      <td>\\nIranians fight rising infertility and taboos</td>\n",
       "      <td>[\\n, [[Afp],  ], \\n, [August 16, 2016], \\n]</td>\n",
       "    </tr>\n",
       "    <tr>\n",
       "      <th>2999</th>\n",
       "      <td>\\nStudy finds refilled water bottles are as di...</td>\n",
       "      <td>[\\n, [[Entertainment Desk],  ], \\n, [August 14...</td>\n",
       "    </tr>\n",
       "  </tbody>\n",
       "</table>\n",
       "<p>3000 rows × 2 columns</p>\n",
       "</div>\n",
       "      <button class=\"colab-df-convert\" onclick=\"convertToInteractive('df-d301dbcf-f063-433d-a55e-dfa9892356b1')\"\n",
       "              title=\"Convert this dataframe to an interactive table.\"\n",
       "              style=\"display:none;\">\n",
       "        \n",
       "  <svg xmlns=\"http://www.w3.org/2000/svg\" height=\"24px\"viewBox=\"0 0 24 24\"\n",
       "       width=\"24px\">\n",
       "    <path d=\"M0 0h24v24H0V0z\" fill=\"none\"/>\n",
       "    <path d=\"M18.56 5.44l.94 2.06.94-2.06 2.06-.94-2.06-.94-.94-2.06-.94 2.06-2.06.94zm-11 1L8.5 8.5l.94-2.06 2.06-.94-2.06-.94L8.5 2.5l-.94 2.06-2.06.94zm10 10l.94 2.06.94-2.06 2.06-.94-2.06-.94-.94-2.06-.94 2.06-2.06.94z\"/><path d=\"M17.41 7.96l-1.37-1.37c-.4-.4-.92-.59-1.43-.59-.52 0-1.04.2-1.43.59L10.3 9.45l-7.72 7.72c-.78.78-.78 2.05 0 2.83L4 21.41c.39.39.9.59 1.41.59.51 0 1.02-.2 1.41-.59l7.78-7.78 2.81-2.81c.8-.78.8-2.07 0-2.86zM5.41 20L4 18.59l7.72-7.72 1.47 1.35L5.41 20z\"/>\n",
       "  </svg>\n",
       "      </button>\n",
       "      \n",
       "  <style>\n",
       "    .colab-df-container {\n",
       "      display:flex;\n",
       "      flex-wrap:wrap;\n",
       "      gap: 12px;\n",
       "    }\n",
       "\n",
       "    .colab-df-convert {\n",
       "      background-color: #E8F0FE;\n",
       "      border: none;\n",
       "      border-radius: 50%;\n",
       "      cursor: pointer;\n",
       "      display: none;\n",
       "      fill: #1967D2;\n",
       "      height: 32px;\n",
       "      padding: 0 0 0 0;\n",
       "      width: 32px;\n",
       "    }\n",
       "\n",
       "    .colab-df-convert:hover {\n",
       "      background-color: #E2EBFA;\n",
       "      box-shadow: 0px 1px 2px rgba(60, 64, 67, 0.3), 0px 1px 3px 1px rgba(60, 64, 67, 0.15);\n",
       "      fill: #174EA6;\n",
       "    }\n",
       "\n",
       "    [theme=dark] .colab-df-convert {\n",
       "      background-color: #3B4455;\n",
       "      fill: #D2E3FC;\n",
       "    }\n",
       "\n",
       "    [theme=dark] .colab-df-convert:hover {\n",
       "      background-color: #434B5C;\n",
       "      box-shadow: 0px 1px 3px 1px rgba(0, 0, 0, 0.15);\n",
       "      filter: drop-shadow(0px 1px 2px rgba(0, 0, 0, 0.3));\n",
       "      fill: #FFFFFF;\n",
       "    }\n",
       "  </style>\n",
       "\n",
       "      <script>\n",
       "        const buttonEl =\n",
       "          document.querySelector('#df-d301dbcf-f063-433d-a55e-dfa9892356b1 button.colab-df-convert');\n",
       "        buttonEl.style.display =\n",
       "          google.colab.kernel.accessAllowed ? 'block' : 'none';\n",
       "\n",
       "        async function convertToInteractive(key) {\n",
       "          const element = document.querySelector('#df-d301dbcf-f063-433d-a55e-dfa9892356b1');\n",
       "          const dataTable =\n",
       "            await google.colab.kernel.invokeFunction('convertToInteractive',\n",
       "                                                     [key], {});\n",
       "          if (!dataTable) return;\n",
       "\n",
       "          const docLinkHtml = 'Like what you see? Visit the ' +\n",
       "            '<a target=\"_blank\" href=https://colab.research.google.com/notebooks/data_table.ipynb>data table notebook</a>'\n",
       "            + ' to learn more about interactive tables.';\n",
       "          element.innerHTML = '';\n",
       "          dataTable['output_type'] = 'display_data';\n",
       "          await google.colab.output.renderOutput(dataTable, element);\n",
       "          const docLink = document.createElement('div');\n",
       "          docLink.innerHTML = docLinkHtml;\n",
       "          element.appendChild(docLink);\n",
       "        }\n",
       "      </script>\n",
       "    </div>\n",
       "  </div>\n",
       "  "
      ],
      "text/plain": [
       "                                                  Title  \\\n",
       "0         \\n‘29% of population suffering from diabetes’   \n",
       "1                   \\nK-P readies plan to combat dengue   \n",
       "2             \\nCovid-19 cases on the rise in K-P again   \n",
       "3            \\nBalochistan cabinet approves health card   \n",
       "4            \\nSeven new Covid-19 cases detected in K-P   \n",
       "...                                                 ...   \n",
       "2995  \\nHeart groups suggest people get up every now...   \n",
       "2996      \\nPaying smokers to quit may prove successful   \n",
       "2997  \\nDid you know? Cupping is actually an Islamic...   \n",
       "2998     \\nIranians fight rising infertility and taboos   \n",
       "2999  \\nStudy finds refilled water bottles are as di...   \n",
       "\n",
       "                                            date_author  \n",
       "0     [\\n, [[Our Correspondent],  ], \\n, [April 08, ...  \n",
       "1     [\\n, [[Our Correspondent],  ], \\n, [April 06, ...  \n",
       "2     [\\n, [[Our Correspondent],  ], \\n, [April 01, ...  \n",
       "3     [\\n, [[Syed Ali Shah],  ], \\n, [April 01, 2023...  \n",
       "4     [\\n, [[Our Correspondent],  ], \\n, [March 26, ...  \n",
       "...                                                 ...  \n",
       "2995    [\\n, [[Reuters],  ], \\n, [August 17, 2016], \\n]  \n",
       "2996  [\\n, [[News Desk],  ], \\n, [August 17, 2016], \\n]  \n",
       "2997  [\\n, [[Life&Style],  ], \\n, [August 18, 2016],...  \n",
       "2998        [\\n, [[Afp],  ], \\n, [August 16, 2016], \\n]  \n",
       "2999  [\\n, [[Entertainment Desk],  ], \\n, [August 14...  \n",
       "\n",
       "[3000 rows x 2 columns]"
      ]
     },
     "execution_count": 48,
     "metadata": {},
     "output_type": "execute_result"
    }
   ],
   "source": [
    "import pandas as pd\n",
    "Title = range(3000)\n",
    "date_author = range(3000)\n",
    "articleText = range(3000)\n",
    "dataHealth_title_date_author = pd.DataFrame(\n",
    "    {'Title': titles,\n",
    "     'date_author': d\n",
    "    })\n",
    "dataHealth_title_date_author"
   ]
  },
  {
   "cell_type": "code",
   "execution_count": null,
   "metadata": {
    "colab": {
     "base_uri": "https://localhost:8080/"
    },
    "id": "MLrLgQUlC1tP",
    "outputId": "5d459b6b-6ec9-4de8-ba69-e31da319f1c4"
   },
   "outputs": [
    {
     "name": "stdout",
     "output_type": "stream",
     "text": [
      "                                                  Title  \\\n",
      "0         \\n‘29% of population suffering from diabetes’   \n",
      "1                   \\nK-P readies plan to combat dengue   \n",
      "2             \\nCovid-19 cases on the rise in K-P again   \n",
      "3            \\nBalochistan cabinet approves health card   \n",
      "4            \\nSeven new Covid-19 cases detected in K-P   \n",
      "...                                                 ...   \n",
      "2995  \\nHeart groups suggest people get up every now...   \n",
      "2996      \\nPaying smokers to quit may prove successful   \n",
      "2997  \\nDid you know? Cupping is actually an Islamic...   \n",
      "2998     \\nIranians fight rising infertility and taboos   \n",
      "2999  \\nStudy finds refilled water bottles are as di...   \n",
      "\n",
      "                                            date_author  \\\n",
      "0     [\\n, [[Our Correspondent],  ], \\n, [April 08, ...   \n",
      "1     [\\n, [[Our Correspondent],  ], \\n, [April 06, ...   \n",
      "2     [\\n, [[Our Correspondent],  ], \\n, [April 01, ...   \n",
      "3     [\\n, [[Syed Ali Shah],  ], \\n, [April 01, 2023...   \n",
      "4     [\\n, [[Our Correspondent],  ], \\n, [March 26, ...   \n",
      "...                                                 ...   \n",
      "2995    [\\n, [[Reuters],  ], \\n, [August 17, 2016], \\n]   \n",
      "2996  [\\n, [[News Desk],  ], \\n, [August 17, 2016], \\n]   \n",
      "2997  [\\n, [[Life&Style],  ], \\n, [August 18, 2016],...   \n",
      "2998        [\\n, [[Afp],  ], \\n, [August 16, 2016], \\n]   \n",
      "2999  [\\n, [[Entertainment Desk],  ], \\n, [August 14...   \n",
      "\n",
      "                                            articleText  \n",
      "0     [[\\n, [\\nLAHORE:\\n], \\n, [<span style=\"color:b...  \n",
      "1     [[\\n, [\\nPESHAWAR:\\n], \\n, [<span style=\"color...  \n",
      "2     [[\\n, [\\nPESHAWAR:\\n], \\n, [<span style=\"color...  \n",
      "3     [[\\n, [\\nQUETTA:\\n], \\n, [<span style=\"color:b...  \n",
      "4     [[\\n, [\\nPESHAWAR:\\n], \\n, [<span style=\"color...  \n",
      "...                                                 ...  \n",
      "2995  [[\\nPeople should get about 30 minutes of exer...  \n",
      "2996  [[\\nA new study shows that financial inducemen...  \n",
      "2997  [[\\nThe media has been abuzz with stories of O...  \n",
      "2998  [[\\n, [\\nTEHRAN:\\n], \\nWith infertility rising...  \n",
      "2999  [[\\nWe all know the key to a healthy mind and ...  \n",
      "\n",
      "[3000 rows x 3 columns]\n"
     ]
    }
   ],
   "source": [
    "cols=['Title','date_author','articleText']\n",
    "for col in cols:\n",
    "    data[[col]].to_csv('\\content\\h_news' + '\\\\' + col + '.csv')\n",
    "\n",
    "print(data)"
   ]
  },
  {
   "cell_type": "code",
   "execution_count": null,
   "metadata": {
    "id": "FmqYtDKkSinh"
   },
   "outputs": [],
   "source": [
    "dataHealth_title_date_author.to_csv('dataHealth_title_date_author.csv')"
   ]
  },
  {
   "cell_type": "code",
   "execution_count": null,
   "metadata": {
    "id": "e4kYAYTOvXEt"
   },
   "outputs": [],
   "source": [
    "import requests\n",
    "from bs4 import BeautifulSoup\n",
    "def pn(pg):\n",
    "  URL = \"https://tribune.com.pk/politics?page=\" + str(pg)\n",
    "  page = requests.get(URL)\n",
    "\n",
    "  soup = BeautifulSoup(page.content, \"html.parser\")\n",
    "  news_titles = soup.findAll('h2', attrs = {'class':\"title-heading\"})\n",
    "  news_links=soup.findAll('div', attrs = {'class':\"horiz-news3-caption\"})\n",
    "  print(news_titles[0].text)"
   ]
  },
  {
   "cell_type": "code",
   "execution_count": null,
   "metadata": {
    "colab": {
     "base_uri": "https://localhost:8080/"
    },
    "id": "YP6laBxqJPw8",
    "outputId": "cfb6f1f0-8453-427f-dd82-63f1c275dd71"
   },
   "outputs": [
    {
     "name": "stdout",
     "output_type": "stream",
     "text": [
      "\n",
      "PPP Punjab leaders skeptical of alliance with PML-N\n"
     ]
    }
   ],
   "source": [
    "pg=100\n",
    "pn(pg)"
   ]
  },
  {
   "cell_type": "code",
   "execution_count": null,
   "metadata": {
    "id": "zxMF52wmwjnj"
   },
   "outputs": [],
   "source": [
    "titles=[]\n",
    "urls=[]\n",
    "for i in range(len(news_titles)):\n",
    "  titles.append(news_titles[i].text)\n",
    "  urls.append(news_links[i].a.attrs[\"href\"])\n"
   ]
  },
  {
   "cell_type": "code",
   "execution_count": null,
   "metadata": {
    "id": "K8qliQaG3zZK"
   },
   "outputs": [],
   "source": [
    "titles"
   ]
  },
  {
   "cell_type": "code",
   "execution_count": null,
   "metadata": {
    "id": "iKtNZ2LE34Si"
   },
   "outputs": [],
   "source": [
    "urls"
   ]
  },
  {
   "cell_type": "code",
   "execution_count": null,
   "metadata": {
    "id": "joC9b10k4o15"
   },
   "outputs": [],
   "source": [
    "URL2 = \"https://tribune.com.pk/story/2409625/politicians-advised-to-mend-fences-to-prevent-economic-meltdown\"\n",
    "page2 = requests.get(URL2)\n",
    "\n",
    "soup2 = BeautifulSoup(page2.content, \"html.parser\")\n",
    "t = soup2.find('h1')\n",
    "#t = soup2.findAll('div', attrs={'class': \"story-box-section\"})\n",
    "date_author=soup2.find('div',attrs={'class':\"left-authorbox\"})\n",
    "b=soup2.findAll('span', attrs = {'class':\"story-text\"})"
   ]
  },
  {
   "cell_type": "code",
   "execution_count": null,
   "metadata": {
    "colab": {
     "base_uri": "https://localhost:8080/"
    },
    "id": "UahgPgPE6f-V",
    "outputId": "13454e81-7485-43cc-e3e0-9240ce732790"
   },
   "outputs": [
    {
     "data": {
      "text/plain": [
       "<h1>Politicians advised to mend fences to prevent economic meltdown</h1>"
      ]
     },
     "execution_count": 162,
     "metadata": {},
     "output_type": "execute_result"
    }
   ],
   "source": [
    "t"
   ]
  },
  {
   "cell_type": "code",
   "execution_count": null,
   "metadata": {
    "colab": {
     "base_uri": "https://localhost:8080/",
     "height": 35
    },
    "id": "2Jj8of2j7Xdl",
    "outputId": "573b8c9b-289f-420a-cef2-f547e729e5be"
   },
   "outputs": [
    {
     "data": {
      "application/vnd.google.colaboratory.intrinsic+json": {
       "type": "string"
      },
      "text/plain": [
       "'\\nSalman Siddiqui \\nApril 03, 2023\\n'"
      ]
     },
     "execution_count": 164,
     "metadata": {},
     "output_type": "execute_result"
    }
   ],
   "source": [
    "date_author.text"
   ]
  },
  {
   "cell_type": "code",
   "execution_count": null,
   "metadata": {
    "id": "GH3fnwKM7cCb"
   },
   "outputs": [],
   "source": [
    "b[0].text"
   ]
  },
  {
   "cell_type": "code",
   "execution_count": null,
   "metadata": {
    "id": "iWHZOUgm718y"
   },
   "outputs": [],
   "source": [
    "title=[]\n",
    "date_aut=[]\n",
    "content=[]\n",
    "for i in range(len(urls)):\n",
    "  URL2 = urls[i]\n",
    "  page2 = requests.get(URL2)\n",
    "\n",
    "  soup2 = BeautifulSoup(page2.content, \"html.parser\")\n",
    "  title.append(soup2.find('h1'))\n",
    "  #t = soup2.findAll('div', attrs={'class': \"story-box-section\"})\n",
    "  date_aut.append(soup2.find('div',attrs={'class':\"left-authorbox\"}))\n",
    "  content.append(soup2.findAll('span', attrs = {'class':\"story-text\"}))"
   ]
  },
  {
   "cell_type": "code",
   "execution_count": null,
   "metadata": {
    "colab": {
     "base_uri": "https://localhost:8080/"
    },
    "id": "HbNkEDPj8bGp",
    "outputId": "6054718f-85b4-492b-b5e6-67a0d30382fa"
   },
   "outputs": [
    {
     "data": {
      "text/plain": [
       "10"
      ]
     },
     "execution_count": 181,
     "metadata": {},
     "output_type": "execute_result"
    }
   ],
   "source": [
    "len(content)"
   ]
  },
  {
   "cell_type": "code",
   "execution_count": null,
   "metadata": {
    "id": "Pr3Gi4an8e4A"
   },
   "outputs": [],
   "source": [
    "c=[]\n",
    "for i in range(len(content)):\n",
    "  c.append(content[i][0].text)"
   ]
  },
  {
   "cell_type": "code",
   "execution_count": null,
   "metadata": {
    "id": "5EnuqO8n-E1e"
   },
   "outputs": [],
   "source": [
    "d=[]\n",
    "for i in range(len(date_aut)):\n",
    "  d.append(date_aut[i].text)"
   ]
  },
  {
   "cell_type": "code",
   "execution_count": null,
   "metadata": {
    "colab": {
     "base_uri": "https://localhost:8080/",
     "height": 35
    },
    "id": "nyFOnC3A92tn",
    "outputId": "027f5e56-2b7d-4f3c-f9c1-38885e5db6bf"
   },
   "outputs": [
    {
     "data": {
      "application/vnd.google.colaboratory.intrinsic+json": {
       "type": "string"
      },
      "text/plain": [
       "'\\nAPP \\nApril 08, 2023\\n'"
      ]
     },
     "execution_count": 186,
     "metadata": {},
     "output_type": "execute_result"
    }
   ],
   "source": [
    "date_aut[0].text"
   ]
  },
  {
   "cell_type": "code",
   "execution_count": null,
   "metadata": {
    "colab": {
     "base_uri": "https://localhost:8080/",
     "height": 581
    },
    "id": "RLoWxjzi9WRg",
    "outputId": "17806a8f-666b-480f-a5bd-67fb92e49af4"
   },
   "outputs": [
    {
     "data": {
      "text/html": [
       "\n",
       "  <div id=\"df-71ac9bf2-e9b0-4394-9cae-cce95e1e181a\">\n",
       "    <div class=\"colab-df-container\">\n",
       "      <div>\n",
       "<style scoped>\n",
       "    .dataframe tbody tr th:only-of-type {\n",
       "        vertical-align: middle;\n",
       "    }\n",
       "\n",
       "    .dataframe tbody tr th {\n",
       "        vertical-align: top;\n",
       "    }\n",
       "\n",
       "    .dataframe thead th {\n",
       "        text-align: right;\n",
       "    }\n",
       "</style>\n",
       "<table border=\"1\" class=\"dataframe\">\n",
       "  <thead>\n",
       "    <tr style=\"text-align: right;\">\n",
       "      <th></th>\n",
       "      <th>Title</th>\n",
       "      <th>date_author</th>\n",
       "      <th>articleText</th>\n",
       "    </tr>\n",
       "  </thead>\n",
       "  <tbody>\n",
       "    <tr>\n",
       "      <th>0</th>\n",
       "      <td>[Grand dialogue on polls proposed]</td>\n",
       "      <td>\\nAPP \\nApril 08, 2023\\n</td>\n",
       "      <td>\\n\\nQUETTA:\\n\\nSenator Samina Mumtaz Zehri has...</td>\n",
       "    </tr>\n",
       "    <tr>\n",
       "      <th>1</th>\n",
       "      <td>[Politicians advised to mend fences to prevent...</td>\n",
       "      <td>\\nSalman Siddiqui \\nApril 03, 2023\\n</td>\n",
       "      <td>\\n\\nKARACHI:\\n\\nPakistan's economy has partial...</td>\n",
       "    </tr>\n",
       "    <tr>\n",
       "      <th>2</th>\n",
       "      <td>[Who cares about the economy in this political...</td>\n",
       "      <td>\\nAAH Soomro \\nApril 03, 2023\\n</td>\n",
       "      <td>\\n\\nKARACHI:\\n\\nThe dollar rate is now a relig...</td>\n",
       "    </tr>\n",
       "    <tr>\n",
       "      <th>3</th>\n",
       "      <td>[Jokes, racism: The many reactions to Humza Yo...</td>\n",
       "      <td>\\nSocial Desk \\nMarch 30, 2023\\n</td>\n",
       "      <td>\\nHumza Yousaf made history after his appointm...</td>\n",
       "    </tr>\n",
       "    <tr>\n",
       "      <th>4</th>\n",
       "      <td>[Economic stability links to politics: PM]</td>\n",
       "      <td>\\nAPP \\nMarch 16, 2023\\n</td>\n",
       "      <td>\\n\\nISLAMABAD:\\n\\nPrime Minister Shehbaz Shari...</td>\n",
       "    </tr>\n",
       "    <tr>\n",
       "      <th>5</th>\n",
       "      <td>[Political polarisation takes its toll on supe...</td>\n",
       "      <td>\\nHasnaat Malik \\nFebruary 03, 2023\\n</td>\n",
       "      <td>\\n\\nISLAMABAD:\\n\\nThe superior courts are faci...</td>\n",
       "    </tr>\n",
       "    <tr>\n",
       "      <th>6</th>\n",
       "      <td>[Dirty politics behind SDGs]</td>\n",
       "      <td>\\nFaran Mahmood \\nJanuary 30, 2023\\n</td>\n",
       "      <td>\\n\\nISLAMABAD:\\n\\nSustainable Development Goal...</td>\n",
       "    </tr>\n",
       "    <tr>\n",
       "      <th>7</th>\n",
       "      <td>[Disgruntled politics]</td>\n",
       "      <td>\\nJanuary 29, 2023\\n</td>\n",
       "      <td>\\nThe political canvas is ripe with somersault...</td>\n",
       "    </tr>\n",
       "    <tr>\n",
       "      <th>8</th>\n",
       "      <td>[Economy and political turbulence]</td>\n",
       "      <td>\\nDr Fahd Rehman \\nJanuary 23, 2023\\n</td>\n",
       "      <td>\\n\\nLAHORE:\\n\\nThe economy has been facing pol...</td>\n",
       "    </tr>\n",
       "    <tr>\n",
       "      <th>9</th>\n",
       "      <td>[Abbasi says no quick fix to current problems]</td>\n",
       "      <td>\\nOur Correspondent \\nJanuary 22, 2023\\n</td>\n",
       "      <td>\\n\\nQUETTA:\\n\\nFormer prime minister Pakistan ...</td>\n",
       "    </tr>\n",
       "  </tbody>\n",
       "</table>\n",
       "</div>\n",
       "      <button class=\"colab-df-convert\" onclick=\"convertToInteractive('df-71ac9bf2-e9b0-4394-9cae-cce95e1e181a')\"\n",
       "              title=\"Convert this dataframe to an interactive table.\"\n",
       "              style=\"display:none;\">\n",
       "        \n",
       "  <svg xmlns=\"http://www.w3.org/2000/svg\" height=\"24px\"viewBox=\"0 0 24 24\"\n",
       "       width=\"24px\">\n",
       "    <path d=\"M0 0h24v24H0V0z\" fill=\"none\"/>\n",
       "    <path d=\"M18.56 5.44l.94 2.06.94-2.06 2.06-.94-2.06-.94-.94-2.06-.94 2.06-2.06.94zm-11 1L8.5 8.5l.94-2.06 2.06-.94-2.06-.94L8.5 2.5l-.94 2.06-2.06.94zm10 10l.94 2.06.94-2.06 2.06-.94-2.06-.94-.94-2.06-.94 2.06-2.06.94z\"/><path d=\"M17.41 7.96l-1.37-1.37c-.4-.4-.92-.59-1.43-.59-.52 0-1.04.2-1.43.59L10.3 9.45l-7.72 7.72c-.78.78-.78 2.05 0 2.83L4 21.41c.39.39.9.59 1.41.59.51 0 1.02-.2 1.41-.59l7.78-7.78 2.81-2.81c.8-.78.8-2.07 0-2.86zM5.41 20L4 18.59l7.72-7.72 1.47 1.35L5.41 20z\"/>\n",
       "  </svg>\n",
       "      </button>\n",
       "      \n",
       "  <style>\n",
       "    .colab-df-container {\n",
       "      display:flex;\n",
       "      flex-wrap:wrap;\n",
       "      gap: 12px;\n",
       "    }\n",
       "\n",
       "    .colab-df-convert {\n",
       "      background-color: #E8F0FE;\n",
       "      border: none;\n",
       "      border-radius: 50%;\n",
       "      cursor: pointer;\n",
       "      display: none;\n",
       "      fill: #1967D2;\n",
       "      height: 32px;\n",
       "      padding: 0 0 0 0;\n",
       "      width: 32px;\n",
       "    }\n",
       "\n",
       "    .colab-df-convert:hover {\n",
       "      background-color: #E2EBFA;\n",
       "      box-shadow: 0px 1px 2px rgba(60, 64, 67, 0.3), 0px 1px 3px 1px rgba(60, 64, 67, 0.15);\n",
       "      fill: #174EA6;\n",
       "    }\n",
       "\n",
       "    [theme=dark] .colab-df-convert {\n",
       "      background-color: #3B4455;\n",
       "      fill: #D2E3FC;\n",
       "    }\n",
       "\n",
       "    [theme=dark] .colab-df-convert:hover {\n",
       "      background-color: #434B5C;\n",
       "      box-shadow: 0px 1px 3px 1px rgba(0, 0, 0, 0.15);\n",
       "      filter: drop-shadow(0px 1px 2px rgba(0, 0, 0, 0.3));\n",
       "      fill: #FFFFFF;\n",
       "    }\n",
       "  </style>\n",
       "\n",
       "      <script>\n",
       "        const buttonEl =\n",
       "          document.querySelector('#df-71ac9bf2-e9b0-4394-9cae-cce95e1e181a button.colab-df-convert');\n",
       "        buttonEl.style.display =\n",
       "          google.colab.kernel.accessAllowed ? 'block' : 'none';\n",
       "\n",
       "        async function convertToInteractive(key) {\n",
       "          const element = document.querySelector('#df-71ac9bf2-e9b0-4394-9cae-cce95e1e181a');\n",
       "          const dataTable =\n",
       "            await google.colab.kernel.invokeFunction('convertToInteractive',\n",
       "                                                     [key], {});\n",
       "          if (!dataTable) return;\n",
       "\n",
       "          const docLinkHtml = 'Like what you see? Visit the ' +\n",
       "            '<a target=\"_blank\" href=https://colab.research.google.com/notebooks/data_table.ipynb>data table notebook</a>'\n",
       "            + ' to learn more about interactive tables.';\n",
       "          element.innerHTML = '';\n",
       "          dataTable['output_type'] = 'display_data';\n",
       "          await google.colab.output.renderOutput(dataTable, element);\n",
       "          const docLink = document.createElement('div');\n",
       "          docLink.innerHTML = docLinkHtml;\n",
       "          element.appendChild(docLink);\n",
       "        }\n",
       "      </script>\n",
       "    </div>\n",
       "  </div>\n",
       "  "
      ],
      "text/plain": [
       "                                               Title  \\\n",
       "0                 [Grand dialogue on polls proposed]   \n",
       "1  [Politicians advised to mend fences to prevent...   \n",
       "2  [Who cares about the economy in this political...   \n",
       "3  [Jokes, racism: The many reactions to Humza Yo...   \n",
       "4         [Economic stability links to politics: PM]   \n",
       "5  [Political polarisation takes its toll on supe...   \n",
       "6                       [Dirty politics behind SDGs]   \n",
       "7                             [Disgruntled politics]   \n",
       "8                 [Economy and political turbulence]   \n",
       "9     [Abbasi says no quick fix to current problems]   \n",
       "\n",
       "                                date_author  \\\n",
       "0                  \\nAPP \\nApril 08, 2023\\n   \n",
       "1      \\nSalman Siddiqui \\nApril 03, 2023\\n   \n",
       "2           \\nAAH Soomro \\nApril 03, 2023\\n   \n",
       "3          \\nSocial Desk \\nMarch 30, 2023\\n   \n",
       "4                  \\nAPP \\nMarch 16, 2023\\n   \n",
       "5     \\nHasnaat Malik \\nFebruary 03, 2023\\n   \n",
       "6      \\nFaran Mahmood \\nJanuary 30, 2023\\n   \n",
       "7                      \\nJanuary 29, 2023\\n   \n",
       "8     \\nDr Fahd Rehman \\nJanuary 23, 2023\\n   \n",
       "9  \\nOur Correspondent \\nJanuary 22, 2023\\n   \n",
       "\n",
       "                                         articleText  \n",
       "0  \\n\\nQUETTA:\\n\\nSenator Samina Mumtaz Zehri has...  \n",
       "1  \\n\\nKARACHI:\\n\\nPakistan's economy has partial...  \n",
       "2  \\n\\nKARACHI:\\n\\nThe dollar rate is now a relig...  \n",
       "3  \\nHumza Yousaf made history after his appointm...  \n",
       "4  \\n\\nISLAMABAD:\\n\\nPrime Minister Shehbaz Shari...  \n",
       "5  \\n\\nISLAMABAD:\\n\\nThe superior courts are faci...  \n",
       "6  \\n\\nISLAMABAD:\\n\\nSustainable Development Goal...  \n",
       "7  \\nThe political canvas is ripe with somersault...  \n",
       "8  \\n\\nLAHORE:\\n\\nThe economy has been facing pol...  \n",
       "9  \\n\\nQUETTA:\\n\\nFormer prime minister Pakistan ...  "
      ]
     },
     "execution_count": 200,
     "metadata": {},
     "output_type": "execute_result"
    }
   ],
   "source": [
    "import pandas as pd\n",
    "Title = range(10)\n",
    "date_author = range(10)\n",
    "articleText = range(10)\n",
    "data = pd.DataFrame(\n",
    "    {'Title': title,\n",
    "     'date_author': d,\n",
    "     'articleText': c\n",
    "    })\n",
    "data"
   ]
  },
  {
   "cell_type": "code",
   "execution_count": null,
   "metadata": {
    "id": "CXDrjF9Dv-if"
   },
   "outputs": [],
   "source": [
    "news_titles = soup.findAll('h2', attrs = {'class':\"title-heading\"})\n",
    "news_links=soup.findAll('div', attrs = {'class':\"horiz-news3-caption\"})"
   ]
  },
  {
   "cell_type": "code",
   "execution_count": null,
   "metadata": {
    "id": "ypCCkuaJ_w2C"
   },
   "outputs": [],
   "source": [
    "data.to_csv('data.csv')"
   ]
  }
 ],
 "metadata": {
  "colab": {
   "provenance": []
  },
  "kernelspec": {
   "display_name": "Python 3 (ipykernel)",
   "language": "python",
   "name": "python3"
  },
  "language_info": {
   "codemirror_mode": {
    "name": "ipython",
    "version": 3
   },
   "file_extension": ".py",
   "mimetype": "text/x-python",
   "name": "python",
   "nbconvert_exporter": "python",
   "pygments_lexer": "ipython3",
   "version": "3.9.12"
  }
 },
 "nbformat": 4,
 "nbformat_minor": 1
}
