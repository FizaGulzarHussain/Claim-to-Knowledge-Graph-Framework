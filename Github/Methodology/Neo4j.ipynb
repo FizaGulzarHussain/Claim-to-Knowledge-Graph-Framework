{
 "cells": [
  {
   "cell_type": "code",
   "execution_count": null,
   "metadata": {
    "colab": {
     "base_uri": "https://localhost:8080/"
    },
    "id": "AAa5LQ3Sfljc",
    "outputId": "4c9831c2-f806-4817-f89d-51af0a55b3bd"
   },
   "outputs": [
    {
     "name": "stdout",
     "output_type": "stream",
     "text": [
      "Collecting neo4j\n",
      "  Downloading neo4j-5.10.0.tar.gz (187 kB)\n",
      "\u001b[2K     \u001b[90m━━━━━━━━━━━━━━━━━━━━━━━━━━━━━━━━━━━━━━━\u001b[0m \u001b[32m187.7/187.7 kB\u001b[0m \u001b[31m3.2 MB/s\u001b[0m eta \u001b[36m0:00:00\u001b[0m\n",
      "\u001b[?25h  Installing build dependencies ... \u001b[?25l\u001b[?25hdone\n",
      "  Getting requirements to build wheel ... \u001b[?25l\u001b[?25hdone\n",
      "  Installing backend dependencies ... \u001b[?25l\u001b[?25hdone\n",
      "  Preparing metadata (pyproject.toml) ... \u001b[?25l\u001b[?25hdone\n",
      "Requirement already satisfied: pytz in /usr/local/lib/python3.10/dist-packages (from neo4j) (2022.7.1)\n",
      "Building wheels for collected packages: neo4j\n",
      "  Building wheel for neo4j (pyproject.toml) ... \u001b[?25l\u001b[?25hdone\n",
      "  Created wheel for neo4j: filename=neo4j-5.10.0-py3-none-any.whl size=259295 sha256=68bf652bad467a76dabcfe7f4d5f719b2ffae5f8f7e987a8ce64b4b91e848d6e\n",
      "  Stored in directory: /root/.cache/pip/wheels/14/9e/82/738a3a6462074384260415f8f7c3834e9309372ff627f04a2d\n",
      "Successfully built neo4j\n",
      "Installing collected packages: neo4j\n",
      "Successfully installed neo4j-5.10.0\n"
     ]
    }
   ],
   "source": [
    "!pip install neo4j"
   ]
  },
  {
   "cell_type": "code",
   "execution_count": null,
   "metadata": {
    "id": "kxC8rDJRfmQw"
   },
   "outputs": [],
   "source": [
    "from neo4j import GraphDatabase\n",
    "\n",
    "# URI examples: \"neo4j://localhost\", \"neo4j+s://xxx.databases.neo4j.io\"\n",
    "URI = \"neo4j+s://22e118bb.databases.neo4j.io\"\n",
    "AUTH = (\"neo4j\", \"7QoagVlBKkihRzP2bWBuXerFYZKC5KLTXVDHcxEMCoE\")\n",
    "\n",
    "with GraphDatabase.driver(URI, auth=AUTH) as driver:\n",
    "    driver.verify_connectivity()"
   ]
  },
  {
   "cell_type": "code",
   "execution_count": null,
   "metadata": {
    "id": "sKKR3ffYfqMS"
   },
   "outputs": [],
   "source": [
    "def save_data_to_neo4j(file_path):\n",
    "    with open(file_path, 'r') as file:\n",
    "        lines = file.readlines()\n",
    "\n",
    "    with driver.session() as session:\n",
    "        for i in range(0, len(lines), 6):\n",
    "            sentence = lines[i].split(': ', 1)[1].strip()\n",
    "            arg1 = lines[i+1].split(': ', 1)[1].strip().split(' (DBpedia URI: ')[0]\n",
    "            arg2 = lines[i+2].split(': ', 1)[1].strip().split(' (DBpedia URI: ')[0]\n",
    "            rel = lines[i+3].split(': ', 1)[1].strip()\n",
    "\n",
    "            # Cypher query to create nodes and relationships\n",
    "            query = (\n",
    "                \"MERGE (s:Entity {uri: $arg1})\"\n",
    "                \"MERGE (o:Entity {uri: $arg2})\"\n",
    "                \"MERGE (s)-[:RELATION {name: $rel}]->(o)\"\n",
    "            )\n",
    "\n",
    "            session.run(query, arg1=arg1, arg2=arg2, rel=rel)\n"
   ]
  },
  {
   "cell_type": "code",
   "execution_count": null,
   "metadata": {
    "id": "mvjmO6k_mISw"
   },
   "outputs": [],
   "source": [
    "if __name__ == \"__main__\":\n",
    "    file_path = \"triples_file.txt\"  # Replace with the path to your data file\n",
    "\n",
    "    # Save data to Neo4j\n",
    "    save_data_to_neo4j(file_path)\n",
    "\n",
    "    # Close the driver\n",
    "    driver.close()\n"
   ]
  },
  {
   "cell_type": "code",
   "execution_count": null,
   "metadata": {
    "id": "6qN8eLqdmOhL"
   },
   "outputs": [],
   "source": []
  }
 ],
 "metadata": {
  "colab": {
   "provenance": []
  },
  "kernelspec": {
   "display_name": "Python 3 (ipykernel)",
   "language": "python",
   "name": "python3"
  },
  "language_info": {
   "codemirror_mode": {
    "name": "ipython",
    "version": 3
   },
   "file_extension": ".py",
   "mimetype": "text/x-python",
   "name": "python",
   "nbconvert_exporter": "python",
   "pygments_lexer": "ipython3",
   "version": "3.9.12"
  }
 },
 "nbformat": 4,
 "nbformat_minor": 1
}
