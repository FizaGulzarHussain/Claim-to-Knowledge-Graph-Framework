{
  "nbformat": 4,
  "nbformat_minor": 0,
  "metadata": {
    "colab": {
      "provenance": []
    },
    "kernelspec": {
      "name": "python3",
      "display_name": "Python 3"
    },
    "language_info": {
      "name": "python"
    }
  },
  "cells": [
    {
      "cell_type": "code",
      "source": [
        "with open('input (1).txt') as f:\n",
        "    mylist = [line.rstrip('\\n') for line in f]"
      ],
      "metadata": {
        "id": "xgiKijSQPm5B"
      },
      "execution_count": null,
      "outputs": []
    },
    {
      "cell_type": "code",
      "source": [
        "len(mylist)"
      ],
      "metadata": {
        "colab": {
          "base_uri": "https://localhost:8080/"
        },
        "id": "vJtIvZfFREDu",
        "outputId": "4a7465f6-c727-4aa8-933d-405c1bb61bc4"
      },
      "execution_count": null,
      "outputs": [
        {
          "output_type": "execute_result",
          "data": {
            "text/plain": [
              "3318"
            ]
          },
          "metadata": {},
          "execution_count": 15
        }
      ]
    },
    {
      "cell_type": "code",
      "source": [
        "mylist[0]"
      ],
      "metadata": {
        "colab": {
          "base_uri": "https://localhost:8080/",
          "height": 35
        },
        "id": "XH0jCtGmRd1-",
        "outputId": "81e09cc3-c7d2-4c93-b696-1aa1f5fa15b5"
      },
      "execution_count": null,
      "outputs": [
        {
          "output_type": "execute_result",
          "data": {
            "text/plain": [
              "'Punjab CM says will not allow anyone to threaten institutions'"
            ],
            "application/vnd.google.colaboratory.intrinsic+json": {
              "type": "string"
            }
          },
          "metadata": {},
          "execution_count": 16
        }
      ]
    },
    {
      "cell_type": "code",
      "source": [
        "import subprocess\n",
        "\n",
        "# List of text values\n",
        "#text_list = [\"Pakistan won the match against Srilanka\", \"India defeated Australia\", \"England won the series\"]\n",
        "\n",
        "# List to store the output\n",
        "output_list = []\n",
        "\n",
        "# Iterate over each text value\n",
        "for text in mylist:\n",
        "    # Construct the curl command\n",
        "    curl_command = 'curl --header \"Content-Type: application/json\" --request POST --data \\'{{\"text\":\"{}\"}}\\' https://labs.tib.eu/falcon/api?mode=long'.format(text)\n",
        "\n",
        "    # Execute the curl command and capture the output\n",
        "    result = subprocess.run(curl_command, shell=True, capture_output=True, text=True)\n",
        "\n",
        "    # Append the output to the list\n",
        "    output_list.append(result.stdout)\n",
        "\n"
      ],
      "metadata": {
        "id": "mQUcGannO5Cc"
      },
      "execution_count": null,
      "outputs": []
    },
    {
      "cell_type": "code",
      "source": [
        "# Print the output list\n",
        "for output in output_list:\n",
        "    print(output)"
      ],
      "metadata": {
        "id": "CW1dhyTiPcc1"
      },
      "execution_count": null,
      "outputs": []
    },
    {
      "cell_type": "code",
      "source": [
        "len(output_list)"
      ],
      "metadata": {
        "colab": {
          "base_uri": "https://localhost:8080/"
        },
        "id": "NjQtdTBTHfmS",
        "outputId": "13f87099-86be-4574-f3c8-26fe20532b45"
      },
      "execution_count": null,
      "outputs": [
        {
          "output_type": "execute_result",
          "data": {
            "text/plain": [
              "3318"
            ]
          },
          "metadata": {},
          "execution_count": 18
        }
      ]
    },
    {
      "cell_type": "code",
      "source": [
        "# Open the file in write mode\n",
        "with open(\"falcon2.txt\", \"w\") as file:\n",
        "    # Write each item in the list to a new line in the file\n",
        "    for i in range(len(output_list)):\n",
        "        file.write(mylist[i] + \"\\n\" + output_list[i] )"
      ],
      "metadata": {
        "id": "tny64VGDSduP"
      },
      "execution_count": null,
      "outputs": []
    },
    {
      "cell_type": "code",
      "source": [
        "import subprocess\n",
        "\n",
        "# Assign the text value to a variable\n",
        "text = \"Pakistan won the match against Srilanka\"\n",
        "\n",
        "# Construct the curl command\n",
        "curl_command = 'curl --header \"Content-Type: application/json\" --request POST --data \\'{{\"text\":\"{}\"}}\\' https://labs.tib.eu/falcon/api?mode=long'.format(text)\n",
        "\n",
        "# Execute the curl command and capture the output\n",
        "result = subprocess.run(curl_command, shell=True, capture_output=True, text=True)\n",
        "\n",
        "# Print the output\n",
        "print(result.stdout)\n"
      ],
      "metadata": {
        "colab": {
          "base_uri": "https://localhost:8080/"
        },
        "id": "u9GoKrKhEkTZ",
        "outputId": "7b21c831-844f-4608-b055-6c425caba0d2"
      },
      "execution_count": null,
      "outputs": [
        {
          "output_type": "stream",
          "name": "stdout",
          "text": [
            "{\"entities\":[{\"URI\":\"http://dbpedia.org/resource/Pakistan\",\"surface form\":\"pakistan\"},{\"URI\":\"http://dbpedia.org/resource/Priyanka\",\"surface form\":\"Srilanka\"}],\"relations\":[{\"URI\":\"http://dbpedia.org/ontology/award\",\"surface form\":\"won\"},{\"URI\":\"http://dbpedia.org/ontology/team\",\"surface form\":\"match\"}]}\n",
            "\n"
          ]
        }
      ]
    },
    {
      "cell_type": "code",
      "source": [
        "!curl  --header \"Content-Type: application/json\" \\\n",
        "  --request POST \\\n",
        "  --data '{\"text\":\"Some of the earliest ancient human civilisations in South Asia originated from areas encompassing present-day Pakistan\"}' \\\n",
        "  https://labs.tib.eu/falcon/api?mode=long"
      ],
      "metadata": {
        "colab": {
          "base_uri": "https://localhost:8080/"
        },
        "id": "ZiWWB5T9Gdxe",
        "outputId": "50e5a26f-a598-4d2c-b345-e69bc75d782b"
      },
      "execution_count": null,
      "outputs": [
        {
          "output_type": "stream",
          "name": "stdout",
          "text": [
            "{\"entities\":[{\"URI\":\"http://dbpedia.org/resource/Earliest_reported_postmark\",\"surface form\":\"earliest ancient human civilisations\"},{\"URI\":\"http://dbpedia.org/resource/South_Asia\",\"surface form\":\"South Asia\"},{\"URI\":\"http://dbpedia.org/resource/Present_day\",\"surface form\":\"present-day Pakistan\"}],\"relations\":[{\"URI\":\"http://dbpedia.org/ontology/founder\",\"surface form\":\"originated\"},{\"URI\":\"http://dbpedia.org/property/encompassingBay\",\"surface form\":\"encompassing\"}]}\n"
          ]
        }
      ]
    }
  ]
}